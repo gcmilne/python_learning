{
 "cells": [
  {
   "cell_type": "markdown",
   "id": "48d0dde1",
   "metadata": {},
   "source": [
    "# Python for data science essential training pt. 1\n",
    "## 2. Data preparation basics\n",
    "\n",
    "### 2.1 Filtering & selecting data"
   ]
  },
  {
   "cell_type": "code",
   "execution_count": 4,
   "id": "eefce427",
   "metadata": {},
   "outputs": [],
   "source": [
    "import numpy as np\n",
    "import pandas as pd\n",
    "\n",
    "from pandas import Series, DataFrame"
   ]
  },
  {
   "cell_type": "code",
   "execution_count": 15,
   "id": "6db092bb",
   "metadata": {},
   "outputs": [
    {
     "data": {
      "text/plain": [
       "row1    0\n",
       "row2    1\n",
       "row3    2\n",
       "row4    3\n",
       "row5    4\n",
       "row6    5\n",
       "row7    6\n",
       "row8    7\n",
       "dtype: int32"
      ]
     },
     "execution_count": 15,
     "metadata": {},
     "output_type": "execute_result"
    }
   ],
   "source": [
    "# create a series object and assign index labels \n",
    "series_obj = Series(np.arange(8), index = ['row1', 'row2', 'row3', 'row4', 'row5', 'row6', 'row7', 'row8'])\n",
    "series_obj"
   ]
  },
  {
   "cell_type": "code",
   "execution_count": 19,
   "id": "41322026",
   "metadata": {},
   "outputs": [
    {
     "data": {
      "text/plain": [
       "6"
      ]
     },
     "execution_count": 19,
     "metadata": {},
     "output_type": "execute_result"
    }
   ],
   "source": [
    "# this allows you to index using the index labels, e.g.\n",
    "series_obj['row7']"
   ]
  },
  {
   "cell_type": "code",
   "execution_count": 22,
   "id": "af27bd55",
   "metadata": {},
   "outputs": [
    {
     "data": {
      "text/plain": [
       "row1    0\n",
       "row8    7\n",
       "dtype: int32"
      ]
     },
     "execution_count": 22,
     "metadata": {},
     "output_type": "execute_result"
    }
   ],
   "source": [
    "# can also index just using integers, like so (note the double square brackets):\n",
    "series_obj[[0, 7]]"
   ]
  },
  {
   "cell_type": "code",
   "execution_count": 42,
   "id": "ec1c99cd",
   "metadata": {},
   "outputs": [
    {
     "data": {
      "text/html": [
       "<div>\n",
       "<style scoped>\n",
       "    .dataframe tbody tr th:only-of-type {\n",
       "        vertical-align: middle;\n",
       "    }\n",
       "\n",
       "    .dataframe tbody tr th {\n",
       "        vertical-align: top;\n",
       "    }\n",
       "\n",
       "    .dataframe thead th {\n",
       "        text-align: right;\n",
       "    }\n",
       "</style>\n",
       "<table border=\"1\" class=\"dataframe\">\n",
       "  <thead>\n",
       "    <tr style=\"text-align: right;\">\n",
       "      <th></th>\n",
       "      <th>column1</th>\n",
       "      <th>column2</th>\n",
       "      <th>column3</th>\n",
       "      <th>column4</th>\n",
       "      <th>column5</th>\n",
       "      <th>column7</th>\n",
       "    </tr>\n",
       "  </thead>\n",
       "  <tbody>\n",
       "    <tr>\n",
       "      <th>row1</th>\n",
       "      <td>0.870124</td>\n",
       "      <td>0.582277</td>\n",
       "      <td>0.278839</td>\n",
       "      <td>0.185911</td>\n",
       "      <td>0.411100</td>\n",
       "      <td>0.117376</td>\n",
       "    </tr>\n",
       "    <tr>\n",
       "      <th>row2</th>\n",
       "      <td>0.684969</td>\n",
       "      <td>0.437611</td>\n",
       "      <td>0.556229</td>\n",
       "      <td>0.367080</td>\n",
       "      <td>0.402366</td>\n",
       "      <td>0.113041</td>\n",
       "    </tr>\n",
       "    <tr>\n",
       "      <th>row3</th>\n",
       "      <td>0.447031</td>\n",
       "      <td>0.585445</td>\n",
       "      <td>0.161985</td>\n",
       "      <td>0.520719</td>\n",
       "      <td>0.326051</td>\n",
       "      <td>0.699186</td>\n",
       "    </tr>\n",
       "    <tr>\n",
       "      <th>row4</th>\n",
       "      <td>0.366395</td>\n",
       "      <td>0.836375</td>\n",
       "      <td>0.481343</td>\n",
       "      <td>0.516502</td>\n",
       "      <td>0.383048</td>\n",
       "      <td>0.997541</td>\n",
       "    </tr>\n",
       "    <tr>\n",
       "      <th>row5</th>\n",
       "      <td>0.514244</td>\n",
       "      <td>0.559053</td>\n",
       "      <td>0.034450</td>\n",
       "      <td>0.719930</td>\n",
       "      <td>0.421004</td>\n",
       "      <td>0.436935</td>\n",
       "    </tr>\n",
       "    <tr>\n",
       "      <th>row6</th>\n",
       "      <td>0.281701</td>\n",
       "      <td>0.900274</td>\n",
       "      <td>0.669612</td>\n",
       "      <td>0.456069</td>\n",
       "      <td>0.289804</td>\n",
       "      <td>0.525819</td>\n",
       "    </tr>\n",
       "  </tbody>\n",
       "</table>\n",
       "</div>"
      ],
      "text/plain": [
       "       column1   column2   column3   column4   column5   column7\n",
       "row1  0.870124  0.582277  0.278839  0.185911  0.411100  0.117376\n",
       "row2  0.684969  0.437611  0.556229  0.367080  0.402366  0.113041\n",
       "row3  0.447031  0.585445  0.161985  0.520719  0.326051  0.699186\n",
       "row4  0.366395  0.836375  0.481343  0.516502  0.383048  0.997541\n",
       "row5  0.514244  0.559053  0.034450  0.719930  0.421004  0.436935\n",
       "row6  0.281701  0.900274  0.669612  0.456069  0.289804  0.525819"
      ]
     },
     "execution_count": 42,
     "metadata": {},
     "output_type": "execute_result"
    }
   ],
   "source": [
    "np.random.seed(25) #set seed\n",
    "df_obj = DataFrame(np.random.rand(36).reshape(6,6), #generates 36 random numbers; reshape ensures 6 rows x 6 columns\n",
    "                  index = ['row1', 'row2', 'row3', 'row4', 'row5', 'row6'], #name rows\n",
    "                   columns = ['column1', 'column2', 'column3', 'column4', 'column5', 'column7'] #name columns\n",
    "                  )\n",
    "\n",
    "df_obj"
   ]
  },
  {
   "cell_type": "code",
   "execution_count": 45,
   "id": "c4e7eb06",
   "metadata": {},
   "outputs": [
    {
     "data": {
      "text/html": [
       "<div>\n",
       "<style scoped>\n",
       "    .dataframe tbody tr th:only-of-type {\n",
       "        vertical-align: middle;\n",
       "    }\n",
       "\n",
       "    .dataframe tbody tr th {\n",
       "        vertical-align: top;\n",
       "    }\n",
       "\n",
       "    .dataframe thead th {\n",
       "        text-align: right;\n",
       "    }\n",
       "</style>\n",
       "<table border=\"1\" class=\"dataframe\">\n",
       "  <thead>\n",
       "    <tr style=\"text-align: right;\">\n",
       "      <th></th>\n",
       "      <th>column1</th>\n",
       "      <th>column2</th>\n",
       "    </tr>\n",
       "  </thead>\n",
       "  <tbody>\n",
       "    <tr>\n",
       "      <th>row1</th>\n",
       "      <td>0.870124</td>\n",
       "      <td>0.582277</td>\n",
       "    </tr>\n",
       "    <tr>\n",
       "      <th>row2</th>\n",
       "      <td>0.684969</td>\n",
       "      <td>0.437611</td>\n",
       "    </tr>\n",
       "  </tbody>\n",
       "</table>\n",
       "</div>"
      ],
      "text/plain": [
       "       column1   column2\n",
       "row1  0.870124  0.582277\n",
       "row2  0.684969  0.437611"
      ]
     },
     "execution_count": 45,
     "metadata": {},
     "output_type": "execute_result"
    }
   ],
   "source": [
    "# use '.loc' method to pull out values from particular rows & columns\n",
    "df_obj.loc[ ['row1', 'row2'], ['column1', 'column2'] ]"
   ]
  },
  {
   "cell_type": "markdown",
   "id": "f03eaca8",
   "metadata": {},
   "source": [
    "### Data slicing\n",
    "\n",
    "#### Comparison with scalars"
   ]
  },
  {
   "cell_type": "code",
   "execution_count": 46,
   "id": "57d435a5",
   "metadata": {},
   "outputs": [
    {
     "data": {
      "text/plain": [
       "row3    2\n",
       "row4    3\n",
       "row5    4\n",
       "row6    5\n",
       "row7    6\n",
       "dtype: int32"
      ]
     },
     "execution_count": 46,
     "metadata": {},
     "output_type": "execute_result"
    }
   ],
   "source": [
    "# can slice using index labels\n",
    "series_obj['row3':'row7']"
   ]
  },
  {
   "cell_type": "code",
   "execution_count": 50,
   "id": "16ad1994",
   "metadata": {},
   "outputs": [
    {
     "data": {
      "text/html": [
       "<div>\n",
       "<style scoped>\n",
       "    .dataframe tbody tr th:only-of-type {\n",
       "        vertical-align: middle;\n",
       "    }\n",
       "\n",
       "    .dataframe tbody tr th {\n",
       "        vertical-align: top;\n",
       "    }\n",
       "\n",
       "    .dataframe thead th {\n",
       "        text-align: right;\n",
       "    }\n",
       "</style>\n",
       "<table border=\"1\" class=\"dataframe\">\n",
       "  <thead>\n",
       "    <tr style=\"text-align: right;\">\n",
       "      <th></th>\n",
       "      <th>column1</th>\n",
       "      <th>column2</th>\n",
       "      <th>column3</th>\n",
       "      <th>column4</th>\n",
       "      <th>column5</th>\n",
       "      <th>column7</th>\n",
       "    </tr>\n",
       "  </thead>\n",
       "  <tbody>\n",
       "    <tr>\n",
       "      <th>row1</th>\n",
       "      <td>False</td>\n",
       "      <td>False</td>\n",
       "      <td>False</td>\n",
       "      <td>True</td>\n",
       "      <td>False</td>\n",
       "      <td>True</td>\n",
       "    </tr>\n",
       "    <tr>\n",
       "      <th>row2</th>\n",
       "      <td>False</td>\n",
       "      <td>False</td>\n",
       "      <td>False</td>\n",
       "      <td>False</td>\n",
       "      <td>False</td>\n",
       "      <td>True</td>\n",
       "    </tr>\n",
       "    <tr>\n",
       "      <th>row3</th>\n",
       "      <td>False</td>\n",
       "      <td>False</td>\n",
       "      <td>True</td>\n",
       "      <td>False</td>\n",
       "      <td>False</td>\n",
       "      <td>False</td>\n",
       "    </tr>\n",
       "    <tr>\n",
       "      <th>row4</th>\n",
       "      <td>False</td>\n",
       "      <td>False</td>\n",
       "      <td>False</td>\n",
       "      <td>False</td>\n",
       "      <td>False</td>\n",
       "      <td>False</td>\n",
       "    </tr>\n",
       "    <tr>\n",
       "      <th>row5</th>\n",
       "      <td>False</td>\n",
       "      <td>False</td>\n",
       "      <td>True</td>\n",
       "      <td>False</td>\n",
       "      <td>False</td>\n",
       "      <td>False</td>\n",
       "    </tr>\n",
       "    <tr>\n",
       "      <th>row6</th>\n",
       "      <td>False</td>\n",
       "      <td>False</td>\n",
       "      <td>False</td>\n",
       "      <td>False</td>\n",
       "      <td>False</td>\n",
       "      <td>False</td>\n",
       "    </tr>\n",
       "  </tbody>\n",
       "</table>\n",
       "</div>"
      ],
      "text/plain": [
       "      column1  column2  column3  column4  column5  column7\n",
       "row1    False    False    False     True    False     True\n",
       "row2    False    False    False    False    False     True\n",
       "row3    False    False     True    False    False    False\n",
       "row4    False    False    False    False    False    False\n",
       "row5    False    False     True    False    False    False\n",
       "row6    False    False    False    False    False    False"
      ]
     },
     "execution_count": 50,
     "metadata": {},
     "output_type": "execute_result"
    }
   ],
   "source": [
    "# can use boolean operators\n",
    "df_obj < .2"
   ]
  },
  {
   "cell_type": "markdown",
   "id": "fe7a27bd",
   "metadata": {},
   "source": [
    "#### Filtering with scalars"
   ]
  },
  {
   "cell_type": "code",
   "execution_count": 55,
   "id": "acb9dd69",
   "metadata": {},
   "outputs": [
    {
     "data": {
      "text/plain": [
       "row8    7\n",
       "dtype: int32"
      ]
     },
     "execution_count": 55,
     "metadata": {},
     "output_type": "execute_result"
    }
   ],
   "source": [
    "# just like in R, can filter with square brackets\n",
    "series_obj [series_obj > 6]"
   ]
  },
  {
   "cell_type": "markdown",
   "id": "2b9ce1dc",
   "metadata": {},
   "source": [
    "#### Setting values with scalars"
   ]
  },
  {
   "cell_type": "code",
   "execution_count": 57,
   "id": "72cfe76a",
   "metadata": {},
   "outputs": [
    {
     "data": {
      "text/plain": [
       "row1    8\n",
       "row2    1\n",
       "row3    2\n",
       "row4    3\n",
       "row5    8\n",
       "row6    5\n",
       "row7    6\n",
       "row8    8\n",
       "dtype: int32"
      ]
     },
     "execution_count": 57,
     "metadata": {},
     "output_type": "execute_result"
    }
   ],
   "source": [
    "series_obj['row1', 'row5', 'row8'] = 8\n",
    "series_obj"
   ]
  },
  {
   "cell_type": "code",
   "execution_count": 81,
   "id": "1ff79ccb",
   "metadata": {},
   "outputs": [
    {
     "data": {
      "text/html": [
       "<div>\n",
       "<style scoped>\n",
       "    .dataframe tbody tr th:only-of-type {\n",
       "        vertical-align: middle;\n",
       "    }\n",
       "\n",
       "    .dataframe tbody tr th {\n",
       "        vertical-align: top;\n",
       "    }\n",
       "\n",
       "    .dataframe thead th {\n",
       "        text-align: right;\n",
       "    }\n",
       "</style>\n",
       "<table border=\"1\" class=\"dataframe\">\n",
       "  <thead>\n",
       "    <tr style=\"text-align: right;\">\n",
       "      <th></th>\n",
       "      <th>column1</th>\n",
       "      <th>column2</th>\n",
       "      <th>column3</th>\n",
       "      <th>column4</th>\n",
       "      <th>column5</th>\n",
       "      <th>column7</th>\n",
       "    </tr>\n",
       "  </thead>\n",
       "  <tbody>\n",
       "    <tr>\n",
       "      <th>row1</th>\n",
       "      <td>0.870124</td>\n",
       "      <td>0.582277</td>\n",
       "      <td>0.278839</td>\n",
       "      <td>0.185911</td>\n",
       "      <td>0.411100</td>\n",
       "      <td>0.117376</td>\n",
       "    </tr>\n",
       "    <tr>\n",
       "      <th>row2</th>\n",
       "      <td>0.684969</td>\n",
       "      <td>0.437611</td>\n",
       "      <td>0.556229</td>\n",
       "      <td>0.367080</td>\n",
       "      <td>0.402366</td>\n",
       "      <td>0.113041</td>\n",
       "    </tr>\n",
       "  </tbody>\n",
       "</table>\n",
       "</div>"
      ],
      "text/plain": [
       "       column1   column2   column3   column4   column5   column7\n",
       "row1  0.870124  0.582277  0.278839  0.185911  0.411100  0.117376\n",
       "row2  0.684969  0.437611  0.556229  0.367080  0.402366  0.113041"
      ]
     },
     "execution_count": 81,
     "metadata": {},
     "output_type": "execute_result"
    }
   ],
   "source": [
    "df_obj[0:2] # get first 2 rows"
   ]
  },
  {
   "cell_type": "code",
   "execution_count": 89,
   "id": "7049a664",
   "metadata": {},
   "outputs": [
    {
     "data": {
      "text/html": [
       "<div>\n",
       "<style scoped>\n",
       "    .dataframe tbody tr th:only-of-type {\n",
       "        vertical-align: middle;\n",
       "    }\n",
       "\n",
       "    .dataframe tbody tr th {\n",
       "        vertical-align: top;\n",
       "    }\n",
       "\n",
       "    .dataframe thead th {\n",
       "        text-align: right;\n",
       "    }\n",
       "</style>\n",
       "<table border=\"1\" class=\"dataframe\">\n",
       "  <thead>\n",
       "    <tr style=\"text-align: right;\">\n",
       "      <th></th>\n",
       "      <th>column1</th>\n",
       "      <th>column2</th>\n",
       "      <th>column3</th>\n",
       "      <th>column4</th>\n",
       "      <th>column5</th>\n",
       "    </tr>\n",
       "  </thead>\n",
       "  <tbody>\n",
       "    <tr>\n",
       "      <th>row1</th>\n",
       "      <td>0.870124</td>\n",
       "      <td>0.582277</td>\n",
       "      <td>0.278839</td>\n",
       "      <td>0.185911</td>\n",
       "      <td>0.411100</td>\n",
       "    </tr>\n",
       "    <tr>\n",
       "      <th>row2</th>\n",
       "      <td>0.684969</td>\n",
       "      <td>0.437611</td>\n",
       "      <td>0.556229</td>\n",
       "      <td>0.367080</td>\n",
       "      <td>0.402366</td>\n",
       "    </tr>\n",
       "  </tbody>\n",
       "</table>\n",
       "</div>"
      ],
      "text/plain": [
       "       column1   column2   column3   column4   column5\n",
       "row1  0.870124  0.582277  0.278839  0.185911  0.411100\n",
       "row2  0.684969  0.437611  0.556229  0.367080  0.402366"
      ]
     },
     "execution_count": 89,
     "metadata": {},
     "output_type": "execute_result"
    }
   ],
   "source": [
    "df_obj.loc[:'row2', 'column1' : 'column5']  #get rows up to row2 & columns 1 to 5"
   ]
  }
 ],
 "metadata": {
  "kernelspec": {
   "display_name": "Python 3 (ipykernel)",
   "language": "python",
   "name": "python3"
  },
  "language_info": {
   "codemirror_mode": {
    "name": "ipython",
    "version": 3
   },
   "file_extension": ".py",
   "mimetype": "text/x-python",
   "name": "python",
   "nbconvert_exporter": "python",
   "pygments_lexer": "ipython3",
   "version": "3.9.13"
  }
 },
 "nbformat": 4,
 "nbformat_minor": 5
}
